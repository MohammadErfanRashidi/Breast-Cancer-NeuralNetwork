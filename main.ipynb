{
  "nbformat": 4,
  "nbformat_minor": 0,
  "metadata": {
    "colab": {
      "provenance": [],
      "gpuType": "T4",
      "include_colab_link": true
    },
    "kernelspec": {
      "name": "python3",
      "display_name": "Python 3"
    },
    "language_info": {
      "name": "python"
    },
    "accelerator": "GPU"
  },
  "cells": [
    {
      "cell_type": "markdown",
      "metadata": {
        "id": "view-in-github",
        "colab_type": "text"
      },
      "source": [
        "<a href=\"https://colab.research.google.com/github/MohammadErfanRashidi/Breast-Cancer-NeuralNetwork/blob/main/main.ipynb\" target=\"_parent\"><img src=\"https://colab.research.google.com/assets/colab-badge.svg\" alt=\"Open In Colab\"/></a>"
      ]
    },
    {
      "source": [
        "# Import necessary libraries\n",
        "from IPython import get_ipython # This imports the get_ipython function, which is used to interact with the IPython kernel.\n",
        "from IPython.display import display # This imports the display function, which is used to display objects in the notebook."
      ],
      "cell_type": "code",
      "metadata": {
        "id": "WYu3JOLLnbIz"
      },
      "execution_count": 1,
      "outputs": []
    },
    {
      "source": [
        "# Import necessary libraries for building and training the neural network\n",
        "import torch # This imports the PyTorch library, which is used for deep learning.\n",
        "import torch.nn as nn # This imports the neural network module from PyTorch.\n",
        "import torch.optim as optim # This imports the optimization module from PyTorch.\n",
        "from sklearn.datasets import load_breast_cancer # This imports the load_breast_cancer function from scikit-learn, which is used to load the breast cancer dataset.\n",
        "from sklearn.model_selection import train_test_split # This imports the train_test_split function from scikit-learn, which is used to split the data into training and testing sets.\n",
        "from sklearn.preprocessing import StandardScaler # This imports the StandardScaler class from scikit-learn, which is used to standardize the data."
      ],
      "cell_type": "code",
      "metadata": {
        "id": "5SddnGIJnbbP"
      },
      "execution_count": 2,
      "outputs": []
    },
    {
      "source": [
        "# Set the device to use for training (GPU if available, otherwise CPU)\n",
        "device = torch.device(\"cuda\" if torch.cuda.is_available() else \"cpu\") # This creates a torch.device object, which represents the device to use for training.\n",
        "print(f\"Using device: {device}\") # This prints the device that is being used."
      ],
      "cell_type": "code",
      "metadata": {
        "id": "XdsXAYhnnbxw",
        "outputId": "3351f7f1-538c-4ad3-8e7a-0bd2a87e46d4",
        "colab": {
          "base_uri": "https://localhost:8080/"
        }
      },
      "execution_count": 3,
      "outputs": [
        {
          "output_type": "stream",
          "name": "stdout",
          "text": [
            "Using device: cuda\n"
          ]
        }
      ]
    },
    {
      "source": [
        "# Load the breast cancer dataset\n",
        "data = load_breast_cancer() # This loads the breast cancer dataset into a variable called data.\n",
        "X = data.data # This extracts the features from the dataset and assigns them to a variable called X.\n",
        "y = data.target # This extracts the target variable from the dataset and assigns it to a variable called y."
      ],
      "cell_type": "code",
      "metadata": {
        "id": "qqzWlW3hnb8g"
      },
      "execution_count": 4,
      "outputs": []
    },
    {
      "source": [
        "# Print the features\n",
        "print(X) # This prints the features."
      ],
      "cell_type": "code",
      "metadata": {
        "id": "BiIC8tQNncsS",
        "outputId": "bb47447c-e67b-4412-f382-541ae9fc4bb0",
        "colab": {
          "base_uri": "https://localhost:8080/"
        }
      },
      "execution_count": 5,
      "outputs": [
        {
          "output_type": "stream",
          "name": "stdout",
          "text": [
            "[[1.799e+01 1.038e+01 1.228e+02 ... 2.654e-01 4.601e-01 1.189e-01]\n",
            " [2.057e+01 1.777e+01 1.329e+02 ... 1.860e-01 2.750e-01 8.902e-02]\n",
            " [1.969e+01 2.125e+01 1.300e+02 ... 2.430e-01 3.613e-01 8.758e-02]\n",
            " ...\n",
            " [1.660e+01 2.808e+01 1.083e+02 ... 1.418e-01 2.218e-01 7.820e-02]\n",
            " [2.060e+01 2.933e+01 1.401e+02 ... 2.650e-01 4.087e-01 1.240e-01]\n",
            " [7.760e+00 2.454e+01 4.792e+01 ... 0.000e+00 2.871e-01 7.039e-02]]\n"
          ]
        }
      ]
    },
    {
      "source": [
        "# Print the first 5 target values\n",
        "print(y[:5]) # This prints the first 5 target values."
      ],
      "cell_type": "code",
      "metadata": {
        "id": "dEGrXPnjndAE",
        "outputId": "a9bded5d-142c-4e85-eb43-36fdb8c830f2",
        "colab": {
          "base_uri": "https://localhost:8080/"
        }
      },
      "execution_count": 6,
      "outputs": [
        {
          "output_type": "stream",
          "name": "stdout",
          "text": [
            "[0 0 0 0 0]\n"
          ]
        }
      ]
    },
    {
      "source": [
        "# Split the data into training and testing sets\n",
        "X_train, X_test, y_train, y_test = train_test_split(X, y, test_size=0.2, random_state=42) # This splits the data into training and testing sets, with 20% of the data being used for testing."
      ],
      "cell_type": "code",
      "metadata": {
        "id": "VVL98-hNndK9"
      },
      "execution_count": 7,
      "outputs": []
    },
    {
      "source": [
        "# Print the shapes of the data\n",
        "print(X.shape) # This prints the shape of the original data.\n",
        "print(X_train.shape) # This prints the shape of the training data.\n",
        "print(X_test.shape) # This prints the shape of the testing data."
      ],
      "cell_type": "code",
      "metadata": {
        "id": "4hUCIUyindi5",
        "outputId": "795e173b-9b30-4bf0-a2c1-730aacdb9c68",
        "colab": {
          "base_uri": "https://localhost:8080/"
        }
      },
      "execution_count": 8,
      "outputs": [
        {
          "output_type": "stream",
          "name": "stdout",
          "text": [
            "(569, 30)\n",
            "(455, 30)\n",
            "(114, 30)\n"
          ]
        }
      ]
    },
    {
      "source": [
        "# Standardize the data\n",
        "scaler = StandardScaler() # This creates a StandardScaler object.\n",
        "\n",
        "X_train = scaler.fit_transform(X_train) # This fits the StandardScaler to the training data and transforms it.\n",
        "X_test = scaler.transform(X_test) # This transforms the testing data using the fitted StandardScaler."
      ],
      "cell_type": "code",
      "metadata": {
        "id": "RfA3sEAQnd3n"
      },
      "execution_count": 9,
      "outputs": []
    },
    {
      "source": [
        "# Print the type of X_train\n",
        "type(X_train) # This prints the type of X_train."
      ],
      "cell_type": "code",
      "metadata": {
        "id": "0pJIoxWineRE",
        "outputId": "37250277-2dc4-484b-a901-57a5422db7f0",
        "colab": {
          "base_uri": "https://localhost:8080/"
        }
      },
      "execution_count": 10,
      "outputs": [
        {
          "output_type": "execute_result",
          "data": {
            "text/plain": [
              "numpy.ndarray"
            ]
          },
          "metadata": {},
          "execution_count": 10
        }
      ]
    },
    {
      "source": [
        "# Convert the data to PyTorch tensors and move to the device\n",
        "X_train = torch.tensor(X_train, dtype=torch.float32).to(device) # This converts the training data to a PyTorch tensor and moves it to the device.\n",
        "y_train = torch.tensor(y_train, dtype=torch.float32).to(device) # This converts the training labels to a PyTorch tensor and moves it to the device.\n",
        "X_test = torch.tensor(X_test, dtype=torch.float32).to(device) # This converts the testing data to a PyTorch tensor and moves it to the device.\n",
        "y_test = torch.tensor(y_test, dtype=torch.float32).to(device) # This converts the testing labels to a PyTorch tensor and moves it to the device."
      ],
      "cell_type": "code",
      "metadata": {
        "id": "VtiR3_0Inee3"
      },
      "execution_count": 11,
      "outputs": []
    },
    {
      "source": [
        "# Define the neural network architecture\n",
        "class NeuralNet(nn.Module): # This defines a class called NeuralNet, which inherits from nn.Module.\n",
        "\n",
        "  def __init__(self, input_size, hidden_size, output_size): # This is the constructor of the class.\n",
        "    super(NeuralNet, self).__init__() # This calls the constructor of the parent class.\n",
        "    self.fc1 = nn.Linear(input_size, hidden_size) # This creates a linear layer with input_size inputs and hidden_size outputs.\n",
        "    self.relu = nn.ReLU() # This creates a ReLU activation function.\n",
        "    self.fc2 = nn.Linear(hidden_size, output_size) # This creates a linear layer with hidden_size inputs and output_size outputs.\n",
        "    self.sigmoid = nn.Sigmoid() # This creates a sigmoid activation function.\n",
        "\n",
        "  def forward(self, x): # This is the forward pass of the network.\n",
        "    out = self.fc1(x) # This applies the first linear layer to the input.\n",
        "    out = self.relu(out) # This applies the ReLU activation function to the output of the first linear layer.\n",
        "    out = self.fc2(out) # This applies the second linear layer to the output of the ReLU activation function.\n",
        "    out = self.sigmoid(out) # This applies the sigmoid activation function to the output of the second linear layer.\n",
        "    return out # This returns the output of the network."
      ],
      "cell_type": "code",
      "metadata": {
        "id": "2EIGrjDGneyk"
      },
      "execution_count": 12,
      "outputs": []
    },
    {
      "source": [
        "# Set the hyperparameters\n",
        "input_size = X_train.shape[1] # This sets the input size to the number of features in the training data.\n",
        "hidden_size = 64 # This sets the hidden size to 64.\n",
        "output_size = 1 # This sets the output size to 1.\n",
        "learning_rate = 0.001 # This sets the learning rate to 0.001.\n",
        "num_epochs = 100 # This sets the number of epochs to 100."
      ],
      "cell_type": "code",
      "metadata": {
        "id": "a9TJ5aD8nfNm"
      },
      "execution_count": 13,
      "outputs": []
    },
    {
      "source": [
        "# Create an instance of the neural network\n",
        "model = NeuralNet(input_size, hidden_size, output_size).to(device) # This creates an instance of the NeuralNet class and moves it to the device."
      ],
      "cell_type": "code",
      "metadata": {
        "id": "NhbiSxKznfcO"
      },
      "execution_count": 14,
      "outputs": []
    },
    {
      "source": [
        "# Define the loss function and optimizer\n",
        "criterion = nn.BCELoss() # This creates a binary cross-entropy loss function.\n",
        "optimizer = optim.Adam(model.parameters(), lr=learning_rate) # This creates an Adam optimizer."
      ],
      "cell_type": "code",
      "metadata": {
        "id": "oRcj_wp7nfmr"
      },
      "execution_count": 15,
      "outputs": []
    },
    {
      "source": [
        "# Train the model\n",
        "for epoch in range(num_epochs): # This loops over the number of epochs.\n",
        "  model.train() # This sets the model to training mode.\n",
        "  optimizer.zero_grad() # This sets the gradients to zero.\n",
        "  outputs = model(X_train) # This passes the training data through the model.\n",
        "  loss = criterion(outputs, y_train.view(-1,1)) # This calculates the loss.\n",
        "  loss.backward() # This calculates the gradients.\n",
        "  optimizer.step() # This updates the model's parameters.\n",
        "\n",
        "  with torch.no_grad(): # This disables gradient calculation.\n",
        "    predicted = outputs.round() # This rounds the predictions to 0 or 1.\n",
        "    correct = (predicted == y_train.view(-1,1)).float().sum() # This calculates the number of correct predictions.\n",
        "    accuracy = correct/y_train.size(0) # This calculates the accuracy.\n",
        "\n",
        "  if (epoch+1) % 10 == 0: # This prints the loss and accuracy every 10 epochs.\n",
        "    print(f\"Epoch [{epoch+1}/{num_epochs}], Loss : {loss.item():.4f}, Accuracy: {accuracy.item() * 100:.2f}%\")"
      ],
      "cell_type": "code",
      "metadata": {
        "id": "wYOvoR0anf5l",
        "outputId": "a69dbc8d-183d-4f8e-8f52-9dd4f5a8c423",
        "colab": {
          "base_uri": "https://localhost:8080/"
        }
      },
      "execution_count": 16,
      "outputs": [
        {
          "output_type": "stream",
          "name": "stdout",
          "text": [
            "Epoch [10/100], Loss : 0.5793, Accuracy: 89.67%\n",
            "Epoch [20/100], Loss : 0.4583, Accuracy: 92.09%\n",
            "Epoch [30/100], Loss : 0.3642, Accuracy: 93.41%\n",
            "Epoch [40/100], Loss : 0.2909, Accuracy: 94.51%\n",
            "Epoch [50/100], Loss : 0.2356, Accuracy: 94.95%\n",
            "Epoch [60/100], Loss : 0.1954, Accuracy: 95.60%\n",
            "Epoch [70/100], Loss : 0.1666, Accuracy: 95.82%\n",
            "Epoch [80/100], Loss : 0.1455, Accuracy: 96.04%\n",
            "Epoch [90/100], Loss : 0.1296, Accuracy: 97.14%\n",
            "Epoch [100/100], Loss : 0.1172, Accuracy: 97.36%\n"
          ]
        }
      ]
    },
    {
      "source": [
        "# Evaluate the model on the training data\n",
        "model.eval() # This sets the model to evaluation mode.\n",
        "with torch.no_grad(): # This disables gradient calculation.\n",
        "  outputs = model(X_train) # This passes the training data through the model.\n",
        "  predicted = outputs.round() # This rounds the predictions to 0 or 1.\n",
        "  correct = (predicted == y_train.view(-1,1)).float().sum() # This calculates the number of correct predictions.\n",
        "  accuracy = correct/y_train.size(0) # This calculates the accuracy.\n",
        "  print(f\"Accuracy on training data: {accuracy.item() * 100:.2f}%\")"
      ],
      "cell_type": "code",
      "metadata": {
        "id": "y18FtEuXngQg",
        "outputId": "0432ac93-97c9-4e57-f96a-7f23f3ead142",
        "colab": {
          "base_uri": "https://localhost:8080/"
        }
      },
      "execution_count": 17,
      "outputs": [
        {
          "output_type": "stream",
          "name": "stdout",
          "text": [
            "Accuracy on training data: 97.36%\n"
          ]
        }
      ]
    },
    {
      "source": [
        "# Evaluate the model on the testing data\n",
        "model.eval() # This sets the model to evaluation mode.\n",
        "with torch.no_grad(): # This disables gradient calculation.\n",
        "  outputs = model(X_test) # This passes the testing data through the model.\n",
        "  predicted = outputs.round() # This rounds the predictions to 0 or 1.\n",
        "  correct = (predicted == y_test.view(-1,1)).float().sum() # This calculates the number of correct predictions.\n",
        "  accuracy = correct/y_test.size(0) # This calculates the accuracy.\n",
        "  print(f\"Accuracy on test data: {accuracy.item() * 100:.2f}%\")"
      ],
      "cell_type": "code",
      "metadata": {
        "id": "bgHgbwyengmA",
        "outputId": "760799c7-888f-4c08-9966-2e1273e527fc",
        "colab": {
          "base_uri": "https://localhost:8080/"
        }
      },
      "execution_count": 18,
      "outputs": [
        {
          "output_type": "stream",
          "name": "stdout",
          "text": [
            "Accuracy on test data: 98.25%\n"
          ]
        }
      ]
    }
  ]
}